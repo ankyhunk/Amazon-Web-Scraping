{
 "cells": [
  {
   "cell_type": "markdown",
   "id": "17a4367d",
   "metadata": {},
   "source": [
    "#                 Scraping the Best Selling Smartphones on Amazon"
   ]
  },
  {
   "cell_type": "markdown",
   "id": "8b86279c",
   "metadata": {},
   "source": [
    "![Amazon.com Best Sellers](https://i.imgur.com/l3DRy0O.png)"
   ]
  },
  {
   "cell_type": "markdown",
   "id": "60d33920",
   "metadata": {},
   "source": [
    "**Amazon.in is the Indian subsidiary of American multinational technology company specializing in e-commerce, cloud computing, artificial intelligence. The platform is among the best in the industry, where many variety of items can be purchased.\n",
    "    Amazon has listed best selling smartphones that could be found in Amazon Best Sellers section. The page provides a list of smartphones based on sales which is updated hourly. In this project, we are going to retrieve amazon best seller smartphones using web scraping.**"
   ]
  },
  {
   "cell_type": "markdown",
   "id": "b2cfc55b",
   "metadata": {},
   "source": [
    "Here is an outline of the steps we will follow:\n",
    "\n",
    "* Install and import libraries.\n",
    "* Download and Parse the Bestseller Mobiles HTML page source code using Requests and Beautifulsoup.\n",
    "* Repeat previous step for each of the first 8 pages.\n",
    "* Extract information from each page.\n",
    "* Combine the Extracted information from each page's data into a Python Dictionary.\n",
    "* Create a Dictionary of Lists for all the items.\n",
    "* Convert the Dictionary into a Pandas Dataframe using Pandas library.\n",
    "* Save the Pandas Dataframe to a CSV file. \n",
    "By the end of the project, we’ll create a CSV file in the following format:\n",
    "#### Description, Rating, No of Reviews, Price, Link of the product\n",
    "Samsung Galaxy M33 5G (Deep Ocean Blue, 6GB, 128GB Storage),4.0,12843,,https://www.amazon.in/Samsung-Storage-6000mAh-Purchased-Separately/dp/B09TWDYSWQ/ref=zg_bs_1805560031_sccl_1/259-2762699-7186560?pd_rd_i=B09TWDYSWQ&psc=1\n",
    "Samsung Galaxy M33 5G (Mystique Green, 6GB, 128GB Storage),4.0,12843,14499,https://www.amazon.in/Samsung-Mystique-Storage-Purchased-Separately/dp/B09TWGDY4W/ref=zg_bs_1805560031_sccl_2/259-2762699-7186560?pd_rd_i=B09TWGDY4W&psc=1\n",
    "realme narzo 50A (Oxygen Blue , 4GB RAM + 64 GB Storage) Helio G85 Processor,4.2,37829,9999,https://www.amazon.in/realme-Oxygen-Storage-Processor-Battery/dp/B09FKD67CS/ref=zg_bs_1805560031_sccl_4/259-2762699-7186560?pd_rd_i=B09FKD67CS&psc=1"
   ]
  },
  {
   "cell_type": "markdown",
   "id": "98c6d68f",
   "metadata": {},
   "source": [
    "How to Run the Code\n",
    "\n",
    "You can execute the code using the “Run” button at the top of the page and selecting “ Run on Binder “. You can make changes and save your version of the notebook in Jovian by executing the following cells."
   ]
  },
  {
   "cell_type": "code",
   "execution_count": 20,
   "id": "bcca12ae",
   "metadata": {},
   "outputs": [],
   "source": [
    "import jovian"
   ]
  },
  {
   "cell_type": "code",
   "execution_count": 21,
   "id": "21392cff",
   "metadata": {},
   "outputs": [
    {
     "data": {
      "application/javascript": [
       "window.require && require([\"base/js/namespace\"],function(Jupyter){Jupyter.notebook.save_checkpoint()})"
      ],
      "text/plain": [
       "<IPython.core.display.Javascript object>"
      ]
     },
     "metadata": {},
     "output_type": "display_data"
    },
    {
     "name": "stdout",
     "output_type": "stream",
     "text": [
      "[jovian] Updating notebook \"ankyhunk-bg4/scraping-best-selling-mobiles-on-amazon\" on https://jovian.ai/\u001b[0m\n",
      "[jovian] Committed successfully! https://jovian.ai/ankyhunk-bg4/scraping-best-selling-mobiles-on-amazon\u001b[0m\n"
     ]
    },
    {
     "data": {
      "text/plain": [
       "'https://jovian.ai/ankyhunk-bg4/scraping-best-selling-mobiles-on-amazon'"
      ]
     },
     "execution_count": 21,
     "metadata": {},
     "output_type": "execute_result"
    }
   ],
   "source": [
    "jovian.commit(project=\"Scraping Best Selling Mobiles on Amazon\")"
   ]
  },
  {
   "cell_type": "markdown",
   "id": "d6e692eb",
   "metadata": {},
   "source": [
    "## First import the required libraries."
   ]
  },
  {
   "cell_type": "code",
   "execution_count": 22,
   "id": "cd2eb435",
   "metadata": {},
   "outputs": [],
   "source": [
    "import requests\n",
    "from bs4 import BeautifulSoup\n",
    "import pandas as pd\n",
    "import time\n",
    "from time import sleep"
   ]
  },
  {
   "cell_type": "markdown",
   "id": "1c30a1ed",
   "metadata": {},
   "source": [
    "## Fetch and parse the HTML Source from the web page using requests and BeautifulSoup."
   ]
  },
  {
   "cell_type": "code",
   "execution_count": 23,
   "id": "8daa3f86",
   "metadata": {},
   "outputs": [],
   "source": [
    "def get_mobile_page(page_url):\n",
    "    # Header to identify the application, operating system, vendor, and/or version of the requesting.\n",
    "    HEADERS = {\"User-Agent\":\"Mozilla/5.0 (Windows NT 10.0; Win64; x64; rv:66.0) Gecko/20100101 Firefox/66.0\", \"Accept-Encoding\":\"gzip, deflate\", \"Accept\":\"text/html,application/xhtml+xml,application/xml;q=0.9,*/*;q=0.8\", \"DNT\":\"1\",\"Connection\":\"close\", \"Upgrade-Insecure-Requests\":\"1\"}\n",
    "    response=requests.get(page_url,headers=HEADERS)\n",
    "    # To avoid denial of page access, sleeping time between each request.\n",
    "    time.sleep(10)\n",
    "    # Status Code=200 means request is successful otherwise raise Exception.\n",
    "    if response.status_code!=200:\n",
    "        raise Exception(\"Failed to load page {}\".format(page_url))\n",
    "    # Parsing the response text using Html parser using Beautiful Soup library.\n",
    "    mobile_doc = BeautifulSoup(response.text,'html.parser')\n",
    "    return mobile_doc"
   ]
  },
  {
   "cell_type": "markdown",
   "id": "c23259c7",
   "metadata": {},
   "source": [
    "## Pass the page numbers from 1-8 to get a list of URLs for accessing web pages."
   ]
  },
  {
   "cell_type": "code",
   "execution_count": 24,
   "id": "17a2b7e7",
   "metadata": {},
   "outputs": [],
   "source": [
    "def get_page_url():\n",
    "    pages=[]\n",
    "    #There are only 8 pages available for Best-selling smartphones\n",
    "    for i in range(1,9):\n",
    "    #Passing the page-no in the url\n",
    "        url='https://www.amazon.in/gp/bestsellers/electronics/1805560031/ref=zg_bs_pg_{0}?ie=UTF8&pg={0}'.format(*str(i))\n",
    "        #print(url)\n",
    "    #Adding to a list of URLs\n",
    "        pages.append(url)\n",
    "    return pages"
   ]
  },
  {
   "cell_type": "markdown",
   "id": "66db7241",
   "metadata": {},
   "source": [
    "## Extract the details of each item using tags. "
   ]
  },
  {
   "cell_type": "markdown",
   "id": "39279689",
   "metadata": {},
   "source": [
    "![Inspect](https://i.imgur.com/j1RnU3W.png)"
   ]
  },
  {
   "cell_type": "markdown",
   "id": "e9027ee1",
   "metadata": {},
   "source": [
    "### Get the Mobile Description"
   ]
  },
  {
   "cell_type": "code",
   "execution_count": 25,
   "id": "2b9af29a",
   "metadata": {},
   "outputs": [],
   "source": [
    "def get_mobile_desc(doc):\n",
    "    #The div class contains the details of each item. This can be checked using Inspect. There are 30 per page.\n",
    "    item_tag=doc.find_all('div',{'class':'a-column a-span12 a-text-center _cDEzb_grid-column_2hIsc'})\n",
    "    description=[]\n",
    "    #The item tag contains all the details of an item.\n",
    "    for tag in item_tag:\n",
    "        #The second span tag contains description of item.\n",
    "        desc_tag=tag.find_all('span')[1]\n",
    "        # Here, we are accessing the text before '|' of the description.\n",
    "        description.append(desc_tag.text.split('|')[0].strip())\n",
    "    return description"
   ]
  },
  {
   "cell_type": "markdown",
   "id": "c1fa570f",
   "metadata": {},
   "source": [
    "### Get the Mobile Rating"
   ]
  },
  {
   "cell_type": "code",
   "execution_count": 26,
   "id": "17932ae6",
   "metadata": {},
   "outputs": [],
   "source": [
    "def get_mobile_rating(doc):\n",
    "    item_tag=doc.find_all('div',{'class':'a-column a-span12 a-text-center _cDEzb_grid-column_2hIsc'})\n",
    "    \n",
    "    rating=[]\n",
    "    for tag in item_tag:\n",
    "        #The rating tag within item tag is found\n",
    "        rating_tag=tag.find('span',{'class':\"a-icon-alt\"})\n",
    "        #The if condition checks whether rating for item is present.\n",
    "        if rating_tag:\n",
    "            #The rating tag contains rating as'4.5 out of 5 stars'. Hence we are splitting the text to 4.5   \n",
    "            rating.append(float(rating_tag.text.split(' ')[0]))\n",
    "        else:\n",
    "            #Since rating for item is not present, we provide zeros.\n",
    "            rating.append(float(0))\n",
    "    return rating"
   ]
  },
  {
   "cell_type": "markdown",
   "id": "67ec9f43",
   "metadata": {},
   "source": [
    "### Get the Mobile Review"
   ]
  },
  {
   "cell_type": "code",
   "execution_count": 27,
   "id": "219cecf0",
   "metadata": {},
   "outputs": [],
   "source": [
    "def get_mobile_review(doc):\n",
    "    item_tag=doc.find_all('div',{'class':'a-column a-span12 a-text-center _cDEzb_grid-column_2hIsc'})\n",
    "    \n",
    "    review=[]\n",
    "    for tag in item_tag:\n",
    "        #The review tag within item tag is found\n",
    "        review_tag=tag.find('span',{'class':\"a-size-small\"})\n",
    "        #The if condition checks whether review for item is present.\n",
    "        if review_tag:\n",
    "            #The review tag contains the Total No of Reviews. We are removing the ',' in the number.   \n",
    "            review.append(int(review_tag.text.replace(',','')))\n",
    "        else:\n",
    "            # Since review for item is not present, we provide zeros. \n",
    "            review.append(int(0))\n",
    "    return review"
   ]
  },
  {
   "cell_type": "markdown",
   "id": "b64d7e5b",
   "metadata": {},
   "source": [
    "### Get the Mobile Price"
   ]
  },
  {
   "cell_type": "code",
   "execution_count": 28,
   "id": "fa9c5748",
   "metadata": {},
   "outputs": [],
   "source": [
    "def get_mobile_price(doc):\n",
    "    item_tag=doc.find_all('div',{'class':'a-column a-span12 a-text-center _cDEzb_grid-column_2hIsc'})\n",
    "    price=[]\n",
    "    for tag in item_tag:\n",
    "        #The price tag within item tag is found  \n",
    "        price_tag=tag.find('span',{'class':\"a-size-base a-color-price\"})\n",
    "        \n",
    "        #The if condition checks whether the price is present.    \n",
    "        if price_tag:  \n",
    "            #From the price tag, we remove the '₹' symbol and the ',' from the number and cast to int to remove decimals.\n",
    "            price.append(int(float(price_tag.text.replace('₹','').replace(',',''))))\n",
    "        else:\n",
    "            # Since price is not present, we provide zeros.\n",
    "            price.append(int(0))   \n",
    "    return price"
   ]
  },
  {
   "cell_type": "markdown",
   "id": "217c7d52",
   "metadata": {},
   "source": [
    "### Get the Mobile Link"
   ]
  },
  {
   "cell_type": "code",
   "execution_count": 29,
   "id": "2d650b50",
   "metadata": {},
   "outputs": [],
   "source": [
    "def get_mobile_link(doc):\n",
    "    item_tag=doc.find_all('div',{'class':'a-column a-span12 a-text-center _cDEzb_grid-column_2hIsc'})\n",
    "    link=[]\n",
    "    #The Base URL is specified.\n",
    "    base_url = 'https://www.amazon.in'\n",
    "    for tag in item_tag:\n",
    "        #The link of the item is found in 'a' tag in the item_tag variable.\n",
    "        link_tag=tag.find('a')\n",
    "        #The base_url is concatenated with the link of the item found in the link tag.\n",
    "        link.append(base_url+link_tag['href'])\n",
    "    return link"
   ]
  },
  {
   "cell_type": "markdown",
   "id": "0f9ea900",
   "metadata": {},
   "source": [
    "### Combine the details into a dictionary."
   ]
  },
  {
   "cell_type": "code",
   "execution_count": 30,
   "id": "02405509",
   "metadata": {},
   "outputs": [],
   "source": [
    "def parse_mobile_details(doc):\n",
    "    #The dictionary containing the required details is created.\n",
    "    mobile_dict={\n",
    "        'Description':get_mobile_desc(doc), \n",
    "        'Rating':get_mobile_rating(doc),\n",
    "        'Reviews':get_mobile_review(doc), \n",
    "        'Price':get_mobile_price(doc), \n",
    "        'Link': get_mobile_link(doc)\n",
    "    }\n",
    "        \n",
    "    return mobile_dict"
   ]
  },
  {
   "cell_type": "markdown",
   "id": "1b44ad9e",
   "metadata": {},
   "source": [
    "## Create a Dictionary of Lists for all the items."
   ]
  },
  {
   "cell_type": "markdown",
   "id": "aaa57593",
   "metadata": {},
   "source": [
    "## Convert the Dictionary into a Pandas Dataframe using Pandas library."
   ]
  },
  {
   "cell_type": "code",
   "execution_count": 31,
   "id": "ec7f3e7e",
   "metadata": {},
   "outputs": [],
   "source": [
    "def scrape_mobiles():\n",
    "    #The URLs sequentially generated by function get_page_url() is stored in urls.\n",
    "    urls=get_page_url()\n",
    "    top_mobiles={'Description':[],'Rating':[],'Reviews':[],'Price':[],'Link': []}\n",
    "    #The for loop to check each webpage present in the urls.\n",
    "    for mobile_url in urls:\n",
    "        #The parsed doc containing HTML obtained using get_mobile_page.\n",
    "        mobile_doc=get_mobile_page(mobile_url)\n",
    "        #The dictionary containing details of mobiles is obtained.\n",
    "        mobile_details = parse_mobile_details(mobile_doc)\n",
    "        #The dictionary of lists is extended with the details of mobiles from each page.\n",
    "        top_mobiles['Description'].extend(get_mobile_desc(mobile_doc))\n",
    "        top_mobiles['Rating'].extend(get_mobile_rating(mobile_doc))\n",
    "        top_mobiles['Reviews'].extend(get_mobile_review(mobile_doc))\n",
    "        top_mobiles['Price'].extend(get_mobile_price(mobile_doc))\n",
    "        top_mobiles['Link'].extend(get_mobile_link(mobile_doc))\n",
    "       \n",
    "    # The final dictionary is converted to a DataFrame.\n",
    "    return pd.DataFrame(top_mobiles)   "
   ]
  },
  {
   "cell_type": "code",
   "execution_count": 32,
   "id": "dd008e81",
   "metadata": {},
   "outputs": [
    {
     "data": {
      "text/html": [
       "<div>\n",
       "<style scoped>\n",
       "    .dataframe tbody tr th:only-of-type {\n",
       "        vertical-align: middle;\n",
       "    }\n",
       "\n",
       "    .dataframe tbody tr th {\n",
       "        vertical-align: top;\n",
       "    }\n",
       "\n",
       "    .dataframe thead th {\n",
       "        text-align: right;\n",
       "    }\n",
       "</style>\n",
       "<table border=\"1\" class=\"dataframe\">\n",
       "  <thead>\n",
       "    <tr style=\"text-align: right;\">\n",
       "      <th></th>\n",
       "      <th>Description</th>\n",
       "      <th>Rating</th>\n",
       "      <th>Reviews</th>\n",
       "      <th>Price</th>\n",
       "      <th>Link</th>\n",
       "    </tr>\n",
       "  </thead>\n",
       "  <tbody>\n",
       "    <tr>\n",
       "      <th>0</th>\n",
       "      <td>Redmi 10A (Slate Grey, 4GB RAM, 64GB Storage)</td>\n",
       "      <td>3.9</td>\n",
       "      <td>5245</td>\n",
       "      <td>0</td>\n",
       "      <td>https://www.amazon.in/Redmi-Storage-Battery-Fi...</td>\n",
       "    </tr>\n",
       "    <tr>\n",
       "      <th>1</th>\n",
       "      <td>Samsung Galaxy M13 (Aqua Green, 4GB, 64GB Stor...</td>\n",
       "      <td>4.0</td>\n",
       "      <td>4015</td>\n",
       "      <td>9499</td>\n",
       "      <td>https://www.amazon.in/Samsung-Galaxy-Storage-6...</td>\n",
       "    </tr>\n",
       "    <tr>\n",
       "      <th>2</th>\n",
       "      <td>Redmi A1 (Black, 2GB RAM, 32GB Storage)</td>\n",
       "      <td>3.7</td>\n",
       "      <td>68</td>\n",
       "      <td>6299</td>\n",
       "      <td>https://www.amazon.in/Redmi-Storage-Battery-Le...</td>\n",
       "    </tr>\n",
       "    <tr>\n",
       "      <th>3</th>\n",
       "      <td>Redmi 10A (Sea Blue, 4GB RAM, 64GB Storage)</td>\n",
       "      <td>3.9</td>\n",
       "      <td>5245</td>\n",
       "      <td>0</td>\n",
       "      <td>https://www.amazon.in/Redmi-Storage-Battery-Fi...</td>\n",
       "    </tr>\n",
       "    <tr>\n",
       "      <th>4</th>\n",
       "      <td>Redmi Note 11 (Horizon Blue, 4GB RAM, 64GB Sto...</td>\n",
       "      <td>4.1</td>\n",
       "      <td>39415</td>\n",
       "      <td>12099</td>\n",
       "      <td>https://www.amazon.in/Redmi-Horizon-Qualcomm%C...</td>\n",
       "    </tr>\n",
       "  </tbody>\n",
       "</table>\n",
       "</div>"
      ],
      "text/plain": [
       "                                         Description  Rating  Reviews  Price  \\\n",
       "0      Redmi 10A (Slate Grey, 4GB RAM, 64GB Storage)     3.9     5245      0   \n",
       "1  Samsung Galaxy M13 (Aqua Green, 4GB, 64GB Stor...     4.0     4015   9499   \n",
       "2            Redmi A1 (Black, 2GB RAM, 32GB Storage)     3.7       68   6299   \n",
       "3        Redmi 10A (Sea Blue, 4GB RAM, 64GB Storage)     3.9     5245      0   \n",
       "4  Redmi Note 11 (Horizon Blue, 4GB RAM, 64GB Sto...     4.1    39415  12099   \n",
       "\n",
       "                                                Link  \n",
       "0  https://www.amazon.in/Redmi-Storage-Battery-Fi...  \n",
       "1  https://www.amazon.in/Samsung-Galaxy-Storage-6...  \n",
       "2  https://www.amazon.in/Redmi-Storage-Battery-Le...  \n",
       "3  https://www.amazon.in/Redmi-Storage-Battery-Fi...  \n",
       "4  https://www.amazon.in/Redmi-Horizon-Qualcomm%C...  "
      ]
     },
     "execution_count": 32,
     "metadata": {},
     "output_type": "execute_result"
    }
   ],
   "source": [
    "mobiles_df=scrape_mobiles()\n",
    "mobiles_df.head()"
   ]
  },
  {
   "cell_type": "markdown",
   "id": "31010468",
   "metadata": {},
   "source": [
    "## Save the Pandas Dataframe to a CSV file."
   ]
  },
  {
   "cell_type": "code",
   "execution_count": 33,
   "id": "565f92f6",
   "metadata": {},
   "outputs": [],
   "source": [
    "#The DataFrame is written to a CSV file with the required details.\n",
    "mobiles_df.to_csv('Amazon_mobiles.csv', index=None)"
   ]
  },
  {
   "cell_type": "code",
   "execution_count": null,
   "id": "155558c6",
   "metadata": {},
   "outputs": [],
   "source": []
  },
  {
   "cell_type": "markdown",
   "id": "83149e12",
   "metadata": {},
   "source": [
    "## Wrapping up the project and Submission"
   ]
  },
  {
   "cell_type": "markdown",
   "id": "2187c84a",
   "metadata": {},
   "source": [
    "### Summary\n",
    "* The Scraping was done using Python libraries such as Requests, Beautiful Soup for extracting and Pandas for saving the data.\n",
    "* Scraping Top 30 Smartphone details from 8 pages on Amazon website like Description, Rating, Reviews, Price and HyperLink.\n",
    "* Saved all the scraped data into a csv file containing 30 rows and 5 columns for each Web-page and a total of 240 rows and 5 columns."
   ]
  },
  {
   "cell_type": "markdown",
   "id": "2339c0cb",
   "metadata": {},
   "source": [
    "### Future work\n",
    "* Extracting more details of the smartphone by accessing the Mobile link.\n",
    "* Code optimization.\n",
    "* Improving the documentation.\n",
    "* Explore about Scraping Data using Selenium and Scrapy, as the web page is dynamic and frequently changes data."
   ]
  },
  {
   "cell_type": "markdown",
   "id": "8980d9b7",
   "metadata": {},
   "source": [
    "### References\n",
    "Learn more about libraries used:\n",
    "* __[requests](https://requests.readthedocs.io/en/latest/)__\n",
    "* __[Beautiful Soup](https://www.crummy.com/software/BeautifulSoup/bs4/doc/)__\n",
    "* __[time](https://docs.python.org/3/library/time.html)__\n",
    "* __[Pandas](https://pandas.pydata.org/docs/reference/api/pandas.DataFrame.html)__\n",
    "\n",
    "Tutorials on Web Scraping:\n",
    "* __[Python Web Scraping](https://www.youtube.com/watch?v=RKsLLG-bzEY&t=1104s)__\n",
    "* __[Amazon Web Scraping](https://www.datacamp.com/tutorial/amazon-web-scraping-using-beautifulsoup)__\n",
    "* __[5 Web Scraping Projects](https://amankharwal.medium.com/5-web-scraping-projects-with-python-4bcc25ff039)__"
   ]
  },
  {
   "cell_type": "code",
   "execution_count": 34,
   "id": "454fc307",
   "metadata": {},
   "outputs": [
    {
     "data": {
      "application/javascript": [
       "window.require && require([\"base/js/namespace\"],function(Jupyter){Jupyter.notebook.save_checkpoint()})"
      ],
      "text/plain": [
       "<IPython.core.display.Javascript object>"
      ]
     },
     "metadata": {},
     "output_type": "display_data"
    },
    {
     "name": "stdout",
     "output_type": "stream",
     "text": [
      "[jovian] Updating notebook \"ankyhunk-bg4/scraping-best-selling-mobiles-on-amazon\" on https://jovian.ai/\u001b[0m\n",
      "[jovian] Uploading additional outputs...\u001b[0m\n",
      "[jovian] Committed successfully! https://jovian.ai/ankyhunk-bg4/scraping-best-selling-mobiles-on-amazon\u001b[0m\n"
     ]
    },
    {
     "data": {
      "text/plain": [
       "'https://jovian.ai/ankyhunk-bg4/scraping-best-selling-mobiles-on-amazon'"
      ]
     },
     "execution_count": 34,
     "metadata": {},
     "output_type": "execute_result"
    }
   ],
   "source": [
    "jovian.commit(files=[], outputs=[\"Amazon_mobiles.csv\"])"
   ]
  }
 ],
 "metadata": {
  "kernelspec": {
   "display_name": "Python 3 (ipykernel)",
   "language": "python",
   "name": "python3"
  },
  "language_info": {
   "codemirror_mode": {
    "name": "ipython",
    "version": 3
   },
   "file_extension": ".py",
   "mimetype": "text/x-python",
   "name": "python",
   "nbconvert_exporter": "python",
   "pygments_lexer": "ipython3",
   "version": "3.9.7"
  }
 },
 "nbformat": 4,
 "nbformat_minor": 5
}
